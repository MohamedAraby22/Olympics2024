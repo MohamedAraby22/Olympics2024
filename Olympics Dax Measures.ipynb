{
 "cells": [
  {
   "cell_type": "code",
   "execution_count": null,
   "id": "063d06ee-46ac-40ae-87e0-eb01b8fe4731",
   "metadata": {},
   "outputs": [],
   "source": [
    "\n",
    "Total_Players = DISTINCTCOUNT(athletes[code])\n",
    "\n",
    "Total_Medals = var obj = COUNT(medallists[country])\n",
    "             return\n",
    "             IF(ISBLANK(obj) , 0 , obj)  #to make the return is a number instead of blank if a country has no medal in any state\n",
    "\n",
    "Gold_Medals = CALCULATE([Total_Medals] , medallists[medal_type] = \"Gold Medal\")\n",
    "\n",
    "Silver_Medals = CALCULATE([Total_Medals] , medallists[medal_type] = \"Silver Medal\")\n",
    "\n",
    "Bronze_Medals = CALCULATE([Total_Medals] , medallists[medal_type] = \"Bronze Medal\")\n",
    "\n",
    "distinct_countries = DISTINCTCOUNT(athletes[country])\n",
    "\n",
    "Playing_Teams = DISTINCTCOUNT(teams[code])\n"
   ]
  },
  {
   "cell_type": "code",
   "execution_count": null,
   "id": "67893a3f-24c1-49f5-aa69-3db0d31847cc",
   "metadata": {},
   "outputs": [],
   "source": [
    "Male_Count = CALCULATE([Total_Players] , athletes[gender] = \"Male\")\n",
    "\n",
    "\n",
    "total_male_gold = CALCULATE([Gold_Medals] , medallists[gender] = \"Male\")\n",
    "total_male_silver = CALCULATE([Silver_Medals] , medallists[gender] = \"Male\")\n",
    "total_male_bronze = CALCULATE([Bronze_Medals] , medallists[gender] = \"Male\")"
   ]
  },
  {
   "cell_type": "code",
   "execution_count": null,
   "id": "dc1dd5da-d80c-482a-9cb7-39405c9e0e6a",
   "metadata": {},
   "outputs": [],
   "source": [
    "Female_Count = CALCULATE([Total_Players] , athletes[gender] = \"Female\")\n",
    "\n",
    "\n",
    "total_female_gold = CALCULATE([Gold_Medals] , medallists[gender] = \"Female\")\n",
    "total_female_silver = CALCULATE([Silver_Medals] , medallists[gender] = \"Female\")\n",
    "total_female_bronze = CALCULATE([Bronze_Medals] , medallists[gender] = \"Female\")"
   ]
  },
  {
   "cell_type": "code",
   "execution_count": null,
   "id": "8f868c53-6554-4cea-8b59-1924827667b4",
   "metadata": {},
   "outputs": [],
   "source": [
    "#Highlights \n",
    "\n",
    "Highlights = \n",
    "\"The Olympics Tournement was held in France from 26 July to 11 August 2024.\n",
    "Total Athletes: \"&[Total_Players]&\" , with \"&[Male_Count]&\" male and \"&[Female_Count]&\" female participation.\n",
    "United States is the highest participant with 637 player.\" \n",
    "\n",
    "gold_highlights = \"Total Gold medals: \"&[Gold_Medals]&\" where Male players got \"&[total_male_gold]&\" \n",
    "and Female players got \"&[total_female_gold]&\" Gold medals\"\n",
    "\n",
    "bronze_highlights = \"Total Bronze medals: \"&[Bronze_Medals]&\" where Male players got \"&[total_male_bronze]&\" and\n",
    "Female players got \"&[total_female_bronze]&\" Bronze medals\"\n",
    "\n",
    "\n"
   ]
  },
  {
   "cell_type": "code",
   "execution_count": null,
   "id": "83fe8e54-d1f5-4674-b34c-41d55b92f513",
   "metadata": {},
   "outputs": [],
   "source": [
    "\n",
    "Age = DATEDIFF(athletes[birth_date] , TODAY() , YEAR) #to get the age of the players \n",
    "\n",
    "\n",
    "#to \n",
    "Age Gap = \n",
    "IF(athletes[Age] < 15, \"Under 15\",\n",
    "    IF(athletes[Age] >= 15 && athletes[Age] <= 20, \"15-20\",\n",
    "        IF(athletes[Age] >= 21 && athletes[Age] <= 25, \"21-25\",\n",
    "            IF(athletes[Age] >= 26 && athletes[Age] <= 30, \"26-30\",\n",
    "                IF(athletes[Age] >= 31 && athletes[Age] <= 35, \"31-35\",\n",
    "                    IF(athletes[Age] >= 36 && athletes[Age] <= 40, \"36-40\",\n",
    "                        IF(athletes[Age] >= 41 && athletes[Age] <= 45, \"41-45\",\n",
    "                            IF(athletes[Age] >= 46 && athletes[Age] <= 50, \"46-50\",\n",
    "                                \"Over 50\"\n",
    "                            )\n",
    "                        )\n",
    "                    )\n",
    "                )\n",
    "            )\n",
    "        )\n",
    "    )\n",
    ")\n"
   ]
  }
 ],
 "metadata": {
  "kernelspec": {
   "display_name": "Python 3 (ipykernel)",
   "language": "python",
   "name": "python3"
  },
  "language_info": {
   "codemirror_mode": {
    "name": "ipython",
    "version": 3
   },
   "file_extension": ".py",
   "mimetype": "text/x-python",
   "name": "python",
   "nbconvert_exporter": "python",
   "pygments_lexer": "ipython3",
   "version": "3.11.7"
  }
 },
 "nbformat": 4,
 "nbformat_minor": 5
}
